{
 "cells": [
  {
   "cell_type": "markdown",
   "metadata": {},
   "source": [
    "# An Introduction to Java 8 Features by Adam Shaver, adam.shaver@gmail.com\n",
    "\n",
    "## Walkthrough\n",
    " * Java SE 8 was officially released March 2015.\n",
    " * Open a browser, add a link to the [Oracle Java Docs on Java SE 8](https://docs.oracle.com/javase/8/docs/api/).\n",
    " * If you're feeling brave, glance at the section on [Resources](#Resources_other_than_this_guide), and get one of the books.\n",
    " * Read the brief [Overview on Lambdas](#Overivew_Of_Lambdas). If you're drawn to the idea from JavaScript, read the [Source-Map-Sink](#lodash) section. Congragulations, you are now cooking with fire.\n",
    " * Please read the section on Lambda best [practices and pitfalls](#Pitfalls). This will make your co-workers (and future self) hate you less.\n",
    " * Understand, if you're going to invest time in crafting clear, maintainable code, please read this whole guide. Also, beyond this page, there is still quite a bit to learn.\n",
    " * This [Jupyter](http://jupyter.org/) notebook was compiled and hosted on [Cloud 9 IO](https://c9.io). It contains a non-standard [Java Kernel](https://github.com/ajlane/java8kernel) which processes Java code via a Java \"Read Eval Print Loop\" Jar ([REPL](https://github.com/albertlatacz/java-repl)), which is run on a copy of Java SE 8 from Oracle. That's the stack. If you want to install it, instructions are in section on [Building a Java Jupyter Notebook](#Building_a_Java_Jupyter_Notebook).  \n",
    " * Either build up this environment and learn or go to something like a publicly available [Java REPL](http://www.javarepl.com/term.html)\n",
    "\n",
    "## Overview of Java SE 8\n",
    "Java SE 8 was first made available to the general public via the Java SE 8 developer release candidate in Sept 2014. The first official release was in the following year, March 2015. When this notebook was written, the most current version available from Oracle was Java SE 8, Update 121. Release notes for that and all previous versions are available at Oracle per [version](http://www.oracle.com/technetwork/java/javase/8u-relnotes-2225394.html). As an aside, I am of the mindset that it's generally a good idea to read through the bugs fixed in updates to see if switching to a subsequent or most-recent version is necessary. \n",
    "\n",
    "### Timeline and Size Of Java Releases\n",
    "|\tJava SE\t|||\tJava EE\t|||\n",
    "|------|------|------|----|||\n",
    "|Year|Version|Num Classes/Interfaces|Year|Version|Num Classes|\n",
    "|1996|\t0|\t211|\t|||\n",
    "|1997|\t1|\t477|1998|\t1|---|\n",
    "|1998|\t2|\t1524|1999|\t2|356|\n",
    "|2000|\t3|\t1840|2001|\t3|427|\n",
    "|2002|\t4|\t2723|2003|\t4|739\n",
    "|2004|\t5|\t3279|2006|\t5|1050|\n",
    "|2006|\t6|\t3793|2009|\t6|1594|\n",
    "|2011|\t7|\t4024|2013|\t7|2011|\n",
    "|2014|\t8|\t4240|2018*|\t8|---|\n",
    "Source for Java SE data, [Core Java Volume I](https://www.amazon.com/Core-Java-I-Fundamentals-10th/dp/0134177304/), by Cay S. Horstman\n",
    "Source for Java EE data, [Oracle Java EE Doc](http://docs.oracle.com/javaee/7/api/)\n",
    "\n",
    "SE 8 only brings in about 216 java classes and interfaces, which is less than any other release of the language. The language modifications introduce Lambdas and, importantly, a new Date API. The JVM, Nashorn, also includes modifications such that Javascript can be run directly from Java, which postures the Java WebServer clearly against Node.js and .Net. While at first this seems swell, the JS interpreter is only implemented up to ECMAScript-262 Edition 5.1 and has no support for the [DOM or CSS](http://www.javaworld.com/article/2144908/scripting-jvm-languages/nashorn--javascript-made-great-in-java-8.html). If one needs JS, there are far better alternatives. The Java GUI development chain for desktop applications (JavaFX) was updated with several new features. \n",
    "\n",
    "At least once, it is worthwhile to glance over the whole set of [updates](http://www.oracle.com/technetwork/java/javase/8-whats-new-2157071.html). \n",
    "\n",
    "Of the full list of changes, the most relevant to the Java-JS Web Application are:\n",
    "- The introduction of Lambda processing, allowing more concise data manipulation and easy parallelism\n",
    "- The Date API changes, which vastly simplify time localization and conversion\n",
    "- Default methods in interfaces.\n",
    "- [Type annotations](https://docs.oracle.com/javase/tutorial/java/annotations/type_annotations.html) (so they can be applied anywhere that a type is used, rather than having to bake it into the type class itself).\n",
    "- Unicode enhancements (to support Unicode 6.2.0)\n",
    "\n",
    "As a first-pass introduction to the language update, I think it's important to (a) become familiar with Lambda style syntax and (b) understand how to leverage lambdas in streams. Beyond that, I would work through the other items in the above list."
   ]
  },
  {
   "cell_type": "markdown",
   "metadata": {},
   "source": [
    "## Lambda Processing (aka. Functional Processing, Point Free, Etc.)\n",
    "\n",
    "### Overview of Lambdas <a id='Overivew_Of_Lambdas'></a>"
   ]
  },
  {
   "cell_type": "code",
   "execution_count": 1,
   "metadata": {
    "collapsed": false
   },
   "outputs": [
    {
     "name": "stdout",
     "output_type": "stream",
     "text": [
      "\u001b[32mAll variables has been cleared\u001b[0m\r\n",
      "\u001b[1m"
     ]
    }
   ],
   "source": [
    ":reset"
   ]
  },
  {
   "cell_type": "markdown",
   "metadata": {},
   "source": [
    "In traditional Java 7, we could declare Runnable instances, which as the name suggests can then be run. The below is an example of an implemented [Runnable](https://docs.oracle.com/javase/7/docs/api/java/lang/Runnable.html), which is itself an interface, with the `run` method overridden for custom behavior. To be precise, `r1` is an instance of a class extended anonymously from `Runnable` via override. "
   ]
  },
  {
   "cell_type": "code",
   "execution_count": 2,
   "metadata": {
    "collapsed": false
   },
   "outputs": [
    {
     "name": "stdout",
     "output_type": "stream",
     "text": [
      "\u001b[32mjava.lang.Runnable r1 = Evaluation$pv24fy69c5tm1ws3xh7g$1@170f6640\u001b[0m\r\n",
      "\u001b[1m"
     ]
    }
   ],
   "source": [
    "Runnable r1 = new Runnable(){      \n",
    "  @Override\n",
    "  public void run(){\n",
    "   System.out.println(\"Hello world one!\");\n",
    "  }\n",
    "}; // note below is a regular Evaluation, not a lambda"
   ]
  },
  {
   "cell_type": "code",
   "execution_count": 3,
   "metadata": {
    "collapsed": false
   },
   "outputs": [
    {
     "name": "stdout",
     "output_type": "stream",
     "text": [
      "\u001b[32mHello world one!\u001b[0m\r\n",
      "\u001b[32m\u001b[0m\r\n",
      "\u001b[1m"
     ]
    }
   ],
   "source": [
    "r1.run();"
   ]
  },
  {
   "cell_type": "markdown",
   "metadata": {},
   "source": [
    "In Java 8, functions take role closer to first-class objects (moving up from second or third class functors). Their usage still isn't as free-form as in Javascript, but it's better. In the below example, `r2` holds an anonymous function, which takes no parameters, and calls System.out.println when executed. This satisfies the functional interface of [Runnable](https://docs.oracle.com/javase/8/docs/api/java/lang/Runnable.html) in Java 8."
   ]
  },
  {
   "cell_type": "code",
   "execution_count": 4,
   "metadata": {
    "collapsed": false
   },
   "outputs": [
    {
     "name": "stdout",
     "output_type": "stream",
     "text": [
      "\u001b[32mjava.lang.Runnable r2 = Evaluation$c09163kigonalhbf8dyu$$Lambda$213/1339159175@9a0d7ec\u001b[0m\r\n",
      "\u001b[1m"
     ]
    }
   ],
   "source": [
    "Runnable r2 = () -> System.out.println(\"Hello world two!\"); // This produces a lambda!"
   ]
  },
  {
   "cell_type": "code",
   "execution_count": 5,
   "metadata": {
    "collapsed": false
   },
   "outputs": [
    {
     "name": "stdout",
     "output_type": "stream",
     "text": [
      "\u001b[32mHello world two!\u001b[0m\r\n",
      "\u001b[32m\u001b[0m\r\n",
      "\u001b[1m"
     ]
    }
   ],
   "source": [
    "r2.run();"
   ]
  },
  {
   "cell_type": "markdown",
   "metadata": {
    "collapsed": false
   },
   "source": [
    "These examples come from the Oracle Lambda Quick Start Guide, which can be found by searching their [tutorials](http://www.oracle.com/technetwork/tutorials/index.html). It's worthwhile to note that the actual code behind `Runnable` had to change from an interface to a functional interface, such that it could accept lambda functions. A short blog on that specific alteration can be found at [here](https://dzone.com/articles/introduction-functional-1).\n"
   ]
  },
  {
   "cell_type": "markdown",
   "metadata": {
    "collapsed": true
   },
   "source": [
    "### Lambda architecture in Java 8\n",
    "The bulk of the Lamda architecture can be understood through reading two packages in the Java SE 8 Documentation that describe lambdas, followed by a package and interface that covers streams:\n",
    "1. [`java.lang.FunctionalInterface`](https://docs.oracle.com/javase/8/docs/api/java/lang/FunctionalInterface.html) -- The interface that any function that takes Lambda's must satisfy.\n",
    "1. [`java.util.function`](https://docs.oracle.com/javase/8/docs/api/java/util/function/package-summary.html) -- The library that contains all the Lambda specifications. The architecture of Java 8 SE Lambda's lives here.\n",
    "1. [`java.util.stream`](https://docs.oracle.com/javase/8/docs/api/java/util/stream/package-summary.html) -- The library that contains streams, which is one of the most common ways that people use lambdas.\n",
    "1. [`java.util.stream.Stream`](https://docs.oracle.com/javase/8/docs/api/java/util/stream/Stream.html) -- The stream interface, which includes documentation about all the things that might act on streams."
   ]
  },
  {
   "cell_type": "markdown",
   "metadata": {},
   "source": [
    "The `java.util.function` package contains several important classes, generally grouped using Oracle's syntax as:\n",
    "- `Supplier` - This interface specifies how data can be generated in a way that it can be consumed by Lambdas\n",
    "- `Function` - This interface specifies Lambda's themselves that transform data (from one type to another type)\n",
    "- `Predicate` -This interface covers a subset of Lambda functions that take data and return type `boolean`. I still don't know why this is separate from `Function`, though I suspect it has to do with optimization of Predicates for use as filters.\n",
    "- `Operator` - This interface covers a subset of Lambda functions that process data, but generate new data of the same type.\n",
    "- `Consumer` - This interface specifies how Lambda processed data can be turned back into non-Lambda data.\n",
    "\n",
    "The Oracle implementation looks extremely similar to the prior art of Guava's [Functional Ideoms](https://github.com/google/guava/wiki/FunctionalExplained). If you really want prior art and own a copy of Thinking in Java from 2006, flip to page [737-738](https://books.google.com/books?id=bQVvAQAAQBAJ&lpg=PA737&ots=LX0i9H_Y5H&dq=thinking%20in%20java%20functor&pg=PA737#v=onepage&q=thinking%20in%20java%20functor&f=false) and you'll see the initial draft of this framework a decade before it was officially codified. \n",
    "\n",
    "At this point, you might be thinking that the functions in Java SE 8 are not really, first-class objects. You are correct, sort of. Java really, really constrained Lambda-Stream processing to get performance gains and allow parallel processing (in what I belive was a response to popularity of Map-Reduce, Scala, and Clojure). However, we can now do really fantastic closure injection with lambdas (much like what JavaScript has been doing for the better part of a decade). It's also really important to understand the closure/context of lambdas, so we'll delve into that first."
   ]
  },
  {
   "cell_type": "markdown",
   "metadata": {},
   "source": [
    "#### First, a Trivial Closure injection, basic Lambdas\n",
    "This is a trivial example showing that the closure `r3` is formed during object construction, capturing an copy of object `str`. Even when the value of the object later changes, the closure is protected. It is only when a new closure is formed `r4` that the new value of `str` is referenced. "
   ]
  },
  {
   "cell_type": "code",
   "execution_count": 34,
   "metadata": {
    "collapsed": false
   },
   "outputs": [
    {
     "name": "stdout",
     "output_type": "stream",
     "text": [
      "\u001b[32mjava.lang.String str = \"three!\"\u001b[0m\r\n",
      "\u001b[1m"
     ]
    }
   ],
   "source": [
    "String str = \"three!\";"
   ]
  },
  {
   "cell_type": "code",
   "execution_count": 35,
   "metadata": {
    "collapsed": false
   },
   "outputs": [
    {
     "name": "stdout",
     "output_type": "stream",
     "text": [
      "\u001b[32mjava.lang.Runnable r3 = Evaluation$eb8ad6fo0jrv9q243msh$$Lambda$234/510763391@39e91055\u001b[0m\r\n",
      "\u001b[1m"
     ]
    }
   ],
   "source": [
    "Runnable r3 = () -> System.out.println(\"Hello world \" + str);"
   ]
  },
  {
   "cell_type": "code",
   "execution_count": 36,
   "metadata": {
    "collapsed": false
   },
   "outputs": [
    {
     "name": "stdout",
     "output_type": "stream",
     "text": [
      "\u001b[32mCreated method void methodWithInjectedScope(java.lang.Object)\u001b[0m\r\n",
      "\u001b[1m"
     ]
    }
   ],
   "source": [
    "void methodWithInjectedScope(Object r) {    \n",
    "    ((Runnable) r).run();\n",
    "}"
   ]
  },
  {
   "cell_type": "code",
   "execution_count": 37,
   "metadata": {
    "collapsed": false
   },
   "outputs": [
    {
     "name": "stdout",
     "output_type": "stream",
     "text": [
      "\u001b[32mHello world three!\u001b[0m\r\n",
      "\u001b[32m\u001b[0m\r\n",
      "\u001b[1m"
     ]
    }
   ],
   "source": [
    "methodWithInjectedScope(r3);"
   ]
  },
  {
   "cell_type": "markdown",
   "metadata": {},
   "source": [
    "Now if we change the value of `str`, it won't affect the output of our runnable, because the closure was formed during construction of the runnable."
   ]
  },
  {
   "cell_type": "code",
   "execution_count": 38,
   "metadata": {
    "collapsed": false
   },
   "outputs": [
    {
     "name": "stdout",
     "output_type": "stream",
     "text": [
      "\u001b[32mHello world three!\u001b[0m\r\n",
      "\u001b[32mjava.lang.String str = \"four!\"\u001b[0m\r\n",
      "\u001b[1m"
     ]
    }
   ],
   "source": [
    "str = \"four!\";\n",
    "methodWithInjectedScope(r3); // note closure does not change."
   ]
  },
  {
   "cell_type": "markdown",
   "metadata": {},
   "source": [
    "However, if we form a new runnable, referencing the new value of `str` in the closure, we will see the changed value."
   ]
  },
  {
   "cell_type": "code",
   "execution_count": 39,
   "metadata": {
    "collapsed": false
   },
   "outputs": [
    {
     "name": "stdout",
     "output_type": "stream",
     "text": [
      "\u001b[32mjava.lang.Runnable r4 = Evaluation$qh0ojrcfu8xylvpt5a3e$$Lambda$235/957260889@6fde09e4\u001b[0m\r\n",
      "\u001b[1m"
     ]
    }
   ],
   "source": [
    "Runnable r4 = () -> System.out.println(\"Hello world \" + str);"
   ]
  },
  {
   "cell_type": "code",
   "execution_count": 40,
   "metadata": {
    "collapsed": false
   },
   "outputs": [
    {
     "name": "stdout",
     "output_type": "stream",
     "text": [
      "\u001b[32mHello world four!\u001b[0m\r\n",
      "\u001b[32m\u001b[0m\r\n",
      "\u001b[1m"
     ]
    }
   ],
   "source": [
    "methodWithInjectedScope(r4); // note closure references the new value of 'str'. "
   ]
  },
  {
   "cell_type": "markdown",
   "metadata": {},
   "source": [
    "We can even implement a more complicated version, where the `str` value is wrapped inside another object. This lets us change the closure, by maintaining a reference to the referenced object."
   ]
  },
  {
   "cell_type": "code",
   "execution_count": 12,
   "metadata": {
    "collapsed": false
   },
   "outputs": [
    {
     "name": "stdout",
     "output_type": "stream",
     "text": [
      "\u001b[32mAll variables has been cleared\u001b[0m\r\n",
      "\u001b[1m"
     ]
    }
   ],
   "source": [
    ":reset"
   ]
  },
  {
   "cell_type": "code",
   "execution_count": 41,
   "metadata": {
    "collapsed": false
   },
   "outputs": [
    {
     "name": "stdout",
     "output_type": "stream",
     "text": [
      "\u001b[32mCreated type WrappedStrExample\u001b[0m\r\n",
      "\u001b[1m"
     ]
    }
   ],
   "source": [
    "class WrappedStrExample {\n",
    "    class WrappedStr {\n",
    "        public String str = \"Three.\";\n",
    "    }\n",
    "    \n",
    "    private WrappedStr wstr = new WrappedStr();\n",
    "    private String str = \"Three.\";\n",
    "    \n",
    "    public Runnable r4 = null;\n",
    "    public Runnable r3 = null;\n",
    "\n",
    "    WrappedStrExample() {\n",
    "        r3 = () -> System.out.println(\"Hello world \" + this.str);\n",
    "        r4 = () -> System.out.println(\"Hello world Wrapped \" + this.wstr.str);\n",
    "    };\n",
    "\n",
    "    public void SetStr(String str) {\n",
    "        this.str = str;\n",
    "    };\n",
    "\n",
    "    public void SetWStr(String str) {    \n",
    "        this.wstr.str = str;\n",
    "    };\n",
    "}"
   ]
  },
  {
   "cell_type": "code",
   "execution_count": 42,
   "metadata": {
    "collapsed": false
   },
   "outputs": [
    {
     "name": "stdout",
     "output_type": "stream",
     "text": [
      "\u001b[32mjava.lang.Object wse = WrappedStrExample@129e258b\u001b[0m\r\n",
      "\u001b[1m"
     ]
    }
   ],
   "source": [
    "WrappedStrExample wse = new WrappedStrExample();"
   ]
  },
  {
   "cell_type": "code",
   "execution_count": 43,
   "metadata": {
    "collapsed": false
   },
   "outputs": [
    {
     "name": "stdout",
     "output_type": "stream",
     "text": [
      "\u001b[32mHello world Three.\u001b[0m\r\n",
      "\u001b[32mHello world Wrapped Three.\u001b[0m\r\n",
      "\u001b[32m\u001b[0m\r\n",
      "\u001b[1m"
     ]
    }
   ],
   "source": [
    "((WrappedStrExample) wse).r3.run();\n",
    "((WrappedStrExample) wse).r4.run();"
   ]
  },
  {
   "cell_type": "code",
   "execution_count": 44,
   "metadata": {
    "collapsed": false
   },
   "outputs": [
    {
     "name": "stdout",
     "output_type": "stream",
     "text": [
      "\u001b[32m\u001b[0m\r\n",
      "\u001b[1m"
     ]
    }
   ],
   "source": [
    "((WrappedStrExample) wse).SetStr(\"Five\"); // Alters the closure referenced by the runnable "
   ]
  },
  {
   "cell_type": "code",
   "execution_count": 45,
   "metadata": {
    "collapsed": false
   },
   "outputs": [
    {
     "name": "stdout",
     "output_type": "stream",
     "text": [
      "\u001b[32m\u001b[0m\r\n",
      "\u001b[1m"
     ]
    }
   ],
   "source": [
    "((WrappedStrExample) wse).SetWStr(\"Five\"); // Also  alters the closure referenced by the runnable"
   ]
  },
  {
   "cell_type": "code",
   "execution_count": 46,
   "metadata": {
    "collapsed": false
   },
   "outputs": [
    {
     "name": "stdout",
     "output_type": "stream",
     "text": [
      "\u001b[32mHello world Five\u001b[0m\r\n",
      "\u001b[32mHello world Wrapped Five\u001b[0m\r\n",
      "\u001b[32m\u001b[0m\r\n",
      "\u001b[1m"
     ]
    }
   ],
   "source": [
    "((WrappedStrExample) wse).r3.run();\n",
    "((WrappedStrExample) wse).r4.run();"
   ]
  },
  {
   "cell_type": "markdown",
   "metadata": {},
   "source": [
    "#### Second, Non-Trivial Object Construction with Closure injection (think object localization)\n",
    "This example shows how closure and lambdas can be used together to make flexible code. This exploits the closure to make two different constructors that each have different values of scoped variables in their closure. The pattern lends itself to flexible construction, handling dates, polymorphic behaviors for control objects, etc."
   ]
  },
  {
   "cell_type": "code",
   "execution_count": 48,
   "metadata": {
    "collapsed": false
   },
   "outputs": [
    {
     "name": "stdout",
     "output_type": "stream",
     "text": [
      "\u001b[32mCreated type CurrencyType\u001b[0m\r\n",
      "\u001b[1m"
     ]
    }
   ],
   "source": [
    "class CurrencyType {\n",
    "    public String name = \"\"; \n",
    "    public String country = \"\";\n",
    "    public CurrencyType(String name,  String country){\n",
    "        this.name = name;\n",
    "        this.country = country;\n",
    "    }\n",
    "};"
   ]
  },
  {
   "cell_type": "code",
   "execution_count": 49,
   "metadata": {
    "collapsed": false
   },
   "outputs": [
    {
     "name": "stdout",
     "output_type": "stream",
     "text": [
      "\u001b[32mCreated type Money\u001b[0m\r\n",
      "\u001b[1m"
     ]
    }
   ],
   "source": [
    "class Money {\n",
    "    public CurrencyType type;  \n",
    "    public int quantity=0; \n",
    "    public String container;\n",
    "    public String toString() {\n",
    "        return (\"Name: \" + type.name + \", Country: \" + type.country + \", Quantity: \" + this.quantity + \", Container: \" + this.container);\n",
    "    };\n",
    "};"
   ]
  },
  {
   "cell_type": "markdown",
   "metadata": {},
   "source": [
    "We can build a factory from a lambda inside our the class with strong typing in the Lambda."
   ]
  },
  {
   "cell_type": "code",
   "execution_count": 51,
   "metadata": {
    "collapsed": false
   },
   "outputs": [
    {
     "name": "stdout",
     "output_type": "stream",
     "text": [
      "\u001b[32mCreated method java.lang.Object makeWallet(CurrencyType)\u001b[0m\r\n",
      "\u001b[1m"
     ]
    }
   ],
   "source": [
    "Money makeWallet(CurrencyType type) {\n",
    "    \n",
    "    Function<CurrencyType, Money> wallet = (CurrencyType c) -> {\n",
    "        Money money = new Money(); \n",
    "        money.type =  c;\n",
    "        money.quantity = 100;\n",
    "        money.container = \"Wallet\";\n",
    "        return money;\n",
    "    };\n",
    "    return wallet.apply(type);\n",
    "};"
   ]
  },
  {
   "cell_type": "markdown",
   "metadata": {},
   "source": [
    "We can also build and inject a factory from outside scope, though we have to cast (because the compile has trouble figuring out types with the injection of the anonymous lambda. My suspicion is that this is due to type erasure at runtime)."
   ]
  },
  {
   "cell_type": "code",
   "execution_count": 52,
   "metadata": {
    "collapsed": false
   },
   "outputs": [
    {
     "name": "stdout",
     "output_type": "stream",
     "text": [
      "\u001b[32mjava.util.function.Function<java.lang.Object, java.lang.Object> atm = Evaluation$7rgj9cx5hwtdpbmlfoqi$$Lambda$238/461691259@10992ee4\u001b[0m\r\n",
      "\u001b[1m"
     ]
    }
   ],
   "source": [
    "Function<CurrencyType, Money> atm = ( c) -> {\n",
    "    Money money = new Money(); \n",
    "    money.type = (CurrencyType) c;\n",
    "    money.quantity = 100000;\n",
    "    money.container = \"ATM\";\n",
    "    return money;\n",
    "};"
   ]
  },
  {
   "cell_type": "code",
   "execution_count": 53,
   "metadata": {
    "collapsed": false
   },
   "outputs": [
    {
     "name": "stdout",
     "output_type": "stream",
     "text": [
      "\u001b[32mCreated method java.lang.Object makeAtm(CurrencyType)\u001b[0m\r\n",
      "\u001b[1m"
     ]
    }
   ],
   "source": [
    "Money makeAtm(CurrencyType type) {    \n",
    "    return (Money) atm.apply(type); \n",
    "}; "
   ]
  },
  {
   "cell_type": "markdown",
   "metadata": {},
   "source": [
    "Now we can simply construct instances of different types, by using lambdas in a factory pattern."
   ]
  },
  {
   "cell_type": "code",
   "execution_count": 22,
   "metadata": {
    "collapsed": false
   },
   "outputs": [
    {
     "name": "stdout",
     "output_type": "stream",
     "text": [
      "\u001b[32mjava.lang.Object res2 = Name: Dollar, Country: Canada, Quantity: 100, Container: Wallet\u001b[0m\r\n",
      "\u001b[1m"
     ]
    }
   ],
   "source": [
    "makeWallet(new CurrencyType(\"Dollar\", \"Canada\"));"
   ]
  },
  {
   "cell_type": "code",
   "execution_count": 54,
   "metadata": {
    "collapsed": false
   },
   "outputs": [
    {
     "name": "stdout",
     "output_type": "stream",
     "text": [
      "\u001b[32mjava.lang.Object res7 = Name: Dollar, Country: USA, Quantity: 100000, Container: ATM\u001b[0m\r\n",
      "\u001b[1m"
     ]
    }
   ],
   "source": [
    "makeAtm(new CurrencyType(\"Dollar\", \"USA\"));"
   ]
  },
  {
   "cell_type": "markdown",
   "metadata": {},
   "source": [
    "#### Third, Lambda's and streams, the Source-Map-Sink pattern (or how to replace the Java `for` loop and pretend you're using underscore or lodash from JavaScript)<a id='lodash'></a>\n",
    "Before we go any further, I think it's useful to split the contents of java.util.stream into what I call source, processing, and sink types. Sources generate data that is processed and may eventually be collected in a terminal sink. I know that is a fairly loose classification, but it's my feel of how the interfaces are patterned. Basically, you start by turning a collection into a stream, then use lambdas to do processing, then turn it back into a collection via one of the [`Collectors`](https://docs.oracle.com/javase/8/docs/api/java/util/stream/Collectors.html). That being said, it's also common to use a constructor or builder to satisfy the [`Stream.Builder`](https://docs.oracle.com/javase/8/docs/api/java/util/stream/Stream.Builder.html) interface. \n",
    "\n",
    "The key points in this process are (a) generating the stream, (b) deciding which functional interface to use, (c) converting the stream back to a collection, and (d) checking everything throughly for bugs. \n",
    "\n",
    "##### Step 1, generate a stream\n",
    " - from a collection using `.stream()` or `.parallelStream()`\n",
    " - from a stream builder using a constructor/factory/builder to generate the stream, item by item\n",
    " - from any other Supplier (even you you make) that can can produce a stream according to the stream interface.\n",
    "\n",
    "##### Step 2, act on the objects in the stream. Beware these are lazy, so if there is no terminal action, they won't be executed.\n",
    " - filter, map, flatmap, distinct, sorted, peek, limit, skip, etc.\n",
    " - basically applying those Functions, Predicates, and Operators\n",
    " \n",
    "##### Step 3, terminal operations\n",
    " - forEach, min, max, count, findFirst, findAny, anyMatch, collect, reduce, toArray, etc.\n",
    " - applying the Consumers\n",
    "\n",
    "Below is an example. Look at methods **`topUp()`** and **`simulateDay()`** for lambdas and **`stream()`** and **`parallelStream()`** to see how easy it is to do parallelization."
   ]
  },
  {
   "cell_type": "code",
   "execution_count": 26,
   "metadata": {
    "collapsed": false
   },
   "outputs": [
    {
     "name": "stdout",
     "output_type": "stream",
     "text": [
      "\u001b[32mAll variables has been cleared\u001b[0m\r\n",
      "\u001b[1m"
     ]
    }
   ],
   "source": [
    ":reset"
   ]
  },
  {
   "cell_type": "code",
   "execution_count": 1,
   "metadata": {
    "collapsed": false
   },
   "outputs": [
    {
     "name": "stdout",
     "output_type": "stream",
     "text": [
      "\u001b[32mCreated type Bank\u001b[0m\r\n",
      "\u001b[1m"
     ]
    }
   ],
   "source": [
    "class Bank {\n",
    "    \n",
    "    /* Defines Currency specifics*/\n",
    "    class CurrencyType {\n",
    "        public String name = \"\"; \n",
    "        public String country = \"\";\n",
    "        public CurrencyType(String name,  String country){\n",
    "            this.name = name;\n",
    "            this.country = country;\n",
    "        }\n",
    "    };\n",
    "    \n",
    "    /* Defines the container that holds currency (e.g., bank, atm, wallet, credit card)*/\n",
    "    class MoneyContainer {\n",
    "        public CurrencyType type;  \n",
    "        public int quantity=0; \n",
    "        public String storageMethod;\n",
    "        public String toString() {\n",
    "            return (\"Name: \" + type.name + \", Country: \" + type.country + \", Quantity: \" + this.quantity + \", Storage: \" + this.storageMethod);\n",
    "        };\n",
    "    };\n",
    "    \n",
    "    /* Generator that makes an ATM of a currency type*/\n",
    "    Function<CurrencyType, MoneyContainer> atm = (type) -> {\n",
    "        MoneyContainer mc = new MoneyContainer(); \n",
    "        mc.type = (CurrencyType) type;\n",
    "        mc.quantity = 100000;\n",
    "        mc.storageMethod = \"ATM\";\n",
    "        return mc;\n",
    "    };\n",
    "    \n",
    "    /* Factory to make ATMs with a lambda*/\n",
    "    MoneyContainer makeMoneyAtm(CurrencyType type) {    \n",
    "        return (MoneyContainer) atm.apply(type); \n",
    "    }; \n",
    "    \n",
    "    List<MoneyContainer> moneyContainerList = new ArrayList<>();\n",
    "    \n",
    "    /* Set up a bank of 5 atms*/\n",
    "    Bank() {\n",
    "        for (int i = 0; i < 5; i++) {\n",
    "            moneyContainerList.add(makeMoneyAtm(new CurrencyType(\"Dollar\", \"USA\")));\n",
    "        }        \n",
    "    };\n",
    "    \n",
    "    /* REplace all the atms with full containers 10000 */\n",
    "    public List<MoneyContainer> topUp() {\n",
    "        moneyContainerList = moneyContainerList.stream()\n",
    "            .map(mc -> {return makeMoneyAtm(new CurrencyType(\"Dollar\", \"USA\"));})\n",
    "            .collect(java.util.stream.Collectors.toList());\n",
    "        return moneyContainerList;\n",
    "    };\n",
    "    \n",
    "    /* Simulate withdrawl over a day. Also, please note improper use of filter (so we can show below hash examples).*/\n",
    "    public List<MoneyContainer> simulateDay() {\n",
    "        moneyContainerList = moneyContainerList.parallelStream()\n",
    "            .filter(mc -> {mc.quantity -= (Math.random() * 50000); return true;} )\n",
    "            .collect(java.util.stream.Collectors.toList());\n",
    "        return moneyContainerList;\n",
    "    };\n",
    "    \n",
    "    /* Simulate withdrawl over a day. Note, there is no return from the collector, stream objects are mutated.*/\n",
    "     public void simulateDayNoReturn() {\n",
    "        moneyContainerList.parallelStream()\n",
    "            .filter(mc -> {mc.quantity -= (Math.random() * 50000); return true;} )\n",
    "            .collect(java.util.stream.Collectors.toList());\n",
    "    };\n",
    "    \n",
    "     /* Simulate withdrawl over a day. Note, there is no terminal operation (e.g., filter is non-terminal)*/\n",
    "     public List<MoneyContainer> simulateDayNoTerminal() {\n",
    "        moneyContainerList.parallelStream()\n",
    "            .filter(mc -> {mc.quantity -= (Math.random() * 50000); return true;} );\n",
    "         return moneyContainerList;\n",
    "    };\n",
    "    \n",
    "    public void printHoldings() {\n",
    "        moneyContainerList.stream()\n",
    "            .forEach(mc -> {System.out.println(mc);} );\n",
    "    }\n",
    "    \n",
    "    public void printHashCode() {\n",
    "        for (MoneyContainer mc : moneyContainerList) {\n",
    "            System.out.println(mc.hashCode());\n",
    "        }\n",
    "    }\n",
    "    \n",
    "    public void printHashCodeInStream() {\n",
    "        moneyContainerList.stream()\n",
    "            .forEach(mc -> {System.out.println(mc.hashCode());} );\n",
    "    }\n",
    "    \n",
    "    public void printHashCodeInStream2() {\n",
    "        moneyContainerList.stream().filter(mc -> {return true;})\n",
    "            .peek(mc -> {System.out.println(mc.hashCode());} )\n",
    "            .collect(java.util.stream.Collectors.toList());\n",
    "    }\n",
    "}"
   ]
  },
  {
   "cell_type": "code",
   "execution_count": 2,
   "metadata": {
    "collapsed": false
   },
   "outputs": [
    {
     "name": "stdout",
     "output_type": "stream",
     "text": [
      "\u001b[32mjava.lang.Object abank = Bank@7e7205ae\u001b[0m\r\n",
      "\u001b[1m"
     ]
    }
   ],
   "source": [
    "Bank abank = new Bank();"
   ]
  },
  {
   "cell_type": "code",
   "execution_count": 3,
   "metadata": {
    "collapsed": false
   },
   "outputs": [
    {
     "name": "stdout",
     "output_type": "stream",
     "text": [
      "\u001b[32mName: Dollar, Country: USA, Quantity: 100000, Storage: ATM\u001b[0m\r\n",
      "\u001b[32mName: Dollar, Country: USA, Quantity: 100000, Storage: ATM\u001b[0m\r\n",
      "\u001b[32mName: Dollar, Country: USA, Quantity: 100000, Storage: ATM\u001b[0m\r\n",
      "\u001b[32mName: Dollar, Country: USA, Quantity: 100000, Storage: ATM\u001b[0m\r\n",
      "\u001b[32mName: Dollar, Country: USA, Quantity: 100000, Storage: ATM\u001b[0m\r\n",
      "\u001b[32m\u001b[0m\r\n",
      "\u001b[1m"
     ]
    }
   ],
   "source": [
    "((Bank) abank).printHoldings();"
   ]
  },
  {
   "cell_type": "code",
   "execution_count": 4,
   "metadata": {
    "collapsed": false
   },
   "outputs": [
    {
     "name": "stdout",
     "output_type": "stream",
     "text": [
      "\u001b[32mName: Dollar, Country: USA, Quantity: 62511, Storage: ATM\u001b[0m\r\n",
      "\u001b[32mName: Dollar, Country: USA, Quantity: 86202, Storage: ATM\u001b[0m\r\n",
      "\u001b[32mName: Dollar, Country: USA, Quantity: 70263, Storage: ATM\u001b[0m\r\n",
      "\u001b[32mName: Dollar, Country: USA, Quantity: 95266, Storage: ATM\u001b[0m\r\n",
      "\u001b[32mName: Dollar, Country: USA, Quantity: 52017, Storage: ATM\u001b[0m\r\n",
      "\u001b[32mjava.util.ArrayList res1 = [Name: Dollar, Country: USA, Quantity: 62511, Storage: ATM, Name: Dollar, Country: USA, Quantity: 86202, Storage: ATM, Name: Dollar, Country: USA, Quantity: 70263, Storage: ATM, Name: Dollar, Country: USA, Quantity: 95266, Storage: ATM, Name: Dollar, Country: USA, Quantity: 52017, Storage: ATM]\u001b[0m\r\n",
      "\u001b[1m"
     ]
    }
   ],
   "source": [
    "((Bank) abank).simulateDay();\n",
    "((Bank) abank).printHoldings();"
   ]
  },
  {
   "cell_type": "code",
   "execution_count": 5,
   "metadata": {
    "collapsed": false
   },
   "outputs": [
    {
     "name": "stdout",
     "output_type": "stream",
     "text": [
      "\u001b[32mRefill\u001b[0m\r\n",
      "\u001b[32mName: Dollar, Country: USA, Quantity: 100000, Storage: ATM\u001b[0m\r\n",
      "\u001b[32mName: Dollar, Country: USA, Quantity: 100000, Storage: ATM\u001b[0m\r\n",
      "\u001b[32mName: Dollar, Country: USA, Quantity: 100000, Storage: ATM\u001b[0m\r\n",
      "\u001b[32mName: Dollar, Country: USA, Quantity: 100000, Storage: ATM\u001b[0m\r\n",
      "\u001b[32mName: Dollar, Country: USA, Quantity: 100000, Storage: ATM\u001b[0m\r\n",
      "\u001b[32m\u001b[0m\r\n",
      "\u001b[1m"
     ]
    }
   ],
   "source": [
    "System.out.println(\"Refill\");\n",
    "((Bank) abank).topUp();\n",
    "((Bank) abank).printHoldings();"
   ]
  },
  {
   "cell_type": "code",
   "execution_count": 58,
   "metadata": {
    "collapsed": false
   },
   "outputs": [
    {
     "name": "stdout",
     "output_type": "stream",
     "text": [
      "\u001b[32m774312511\u001b[0m\r\n",
      "\u001b[32m1121580136\u001b[0m\r\n",
      "\u001b[32m379786833\u001b[0m\r\n",
      "\u001b[32m1683659815\u001b[0m\r\n",
      "\u001b[32m1929038969\u001b[0m\r\n",
      "\u001b[32m\u001b[0m\r\n",
      "\u001b[1m"
     ]
    }
   ],
   "source": [
    "((Bank) abank).printHashCode();"
   ]
  },
  {
   "cell_type": "code",
   "execution_count": 59,
   "metadata": {
    "collapsed": false
   },
   "outputs": [
    {
     "name": "stdout",
     "output_type": "stream",
     "text": [
      "\u001b[32m774312511\u001b[0m\r\n",
      "\u001b[32m1121580136\u001b[0m\r\n",
      "\u001b[32m379786833\u001b[0m\r\n",
      "\u001b[32m1683659815\u001b[0m\r\n",
      "\u001b[32m1929038969\u001b[0m\r\n",
      "\u001b[32m\u001b[0m\r\n",
      "\u001b[1m"
     ]
    }
   ],
   "source": [
    "((Bank) abank).printHashCodeInStream();"
   ]
  },
  {
   "cell_type": "code",
   "execution_count": 60,
   "metadata": {
    "collapsed": false
   },
   "outputs": [
    {
     "name": "stdout",
     "output_type": "stream",
     "text": [
      "\u001b[32m774312511\u001b[0m\r\n",
      "\u001b[32m1121580136\u001b[0m\r\n",
      "\u001b[32m379786833\u001b[0m\r\n",
      "\u001b[32m1683659815\u001b[0m\r\n",
      "\u001b[32m1929038969\u001b[0m\r\n",
      "\u001b[32m\u001b[0m\r\n",
      "\u001b[1m"
     ]
    }
   ],
   "source": [
    "((Bank) abank).printHashCodeInStream2();"
   ]
  },
  {
   "cell_type": "markdown",
   "metadata": {},
   "source": [
    "Note, given that the above hash codes are the same, does one need to actually have a collector in the stream at all?"
   ]
  },
  {
   "cell_type": "code",
   "execution_count": 61,
   "metadata": {
    "collapsed": false
   },
   "outputs": [
    {
     "name": "stdout",
     "output_type": "stream",
     "text": [
      "\u001b[32mName: Dollar, Country: USA, Quantity: 100000, Storage: ATM\u001b[0m\r\n",
      "\u001b[32mName: Dollar, Country: USA, Quantity: 100000, Storage: ATM\u001b[0m\r\n",
      "\u001b[32mName: Dollar, Country: USA, Quantity: 100000, Storage: ATM\u001b[0m\r\n",
      "\u001b[32mName: Dollar, Country: USA, Quantity: 100000, Storage: ATM\u001b[0m\r\n",
      "\u001b[32mName: Dollar, Country: USA, Quantity: 100000, Storage: ATM\u001b[0m\r\n",
      "\u001b[32mName: Dollar, Country: USA, Quantity: 57649, Storage: ATM\u001b[0m\r\n",
      "\u001b[32mName: Dollar, Country: USA, Quantity: 65594, Storage: ATM\u001b[0m\r\n",
      "\u001b[32mName: Dollar, Country: USA, Quantity: 99635, Storage: ATM\u001b[0m\r\n",
      "\u001b[32mName: Dollar, Country: USA, Quantity: 72507, Storage: ATM\u001b[0m\r\n",
      "\u001b[32mName: Dollar, Country: USA, Quantity: 71418, Storage: ATM\u001b[0m\r\n",
      "\u001b[32m\u001b[0m\r\n",
      "\u001b[1m"
     ]
    }
   ],
   "source": [
    "((Bank) abank).printHoldings();\n",
    "((Bank) abank).simulateDayNoReturn();\n",
    "((Bank) abank).printHoldings();"
   ]
  },
  {
   "cell_type": "markdown",
   "metadata": {},
   "source": [
    "Not really, but the stream still needs to have something in place as a terminal operation, otherwise it will not execute. See `simulateDayNoTerminal()` for a method that really doesn't do anything."
   ]
  },
  {
   "cell_type": "code",
   "execution_count": 4,
   "metadata": {
    "collapsed": false
   },
   "outputs": [
    {
     "name": "stdout",
     "output_type": "stream",
     "text": [
      "\u001b[32mName: Dollar, Country: USA, Quantity: 100000, Storage: ATM\u001b[0m\r\n",
      "\u001b[32mName: Dollar, Country: USA, Quantity: 100000, Storage: ATM\u001b[0m\r\n",
      "\u001b[32mName: Dollar, Country: USA, Quantity: 100000, Storage: ATM\u001b[0m\r\n",
      "\u001b[32mName: Dollar, Country: USA, Quantity: 100000, Storage: ATM\u001b[0m\r\n",
      "\u001b[32mName: Dollar, Country: USA, Quantity: 100000, Storage: ATM\u001b[0m\r\n",
      "\u001b[32mjava.util.ArrayList res2 = [Name: Dollar, Country: USA, Quantity: 100000, Storage: ATM, Name: Dollar, Country: USA, Quantity: 100000, Storage: ATM, Name: Dollar, Country: USA, Quantity: 100000, Storage: ATM, Name: Dollar, Country: USA, Quantity: 100000, Storage: ATM, Name: Dollar, Country: USA, Quantity: 100000, Storage: ATM]\u001b[0m\r\n",
      "\u001b[1m"
     ]
    }
   ],
   "source": [
    "((Bank) abank).topUp();\n",
    "((Bank) abank).printHoldings();"
   ]
  },
  {
   "cell_type": "code",
   "execution_count": 3,
   "metadata": {
    "collapsed": false
   },
   "outputs": [
    {
     "name": "stdout",
     "output_type": "stream",
     "text": [
      "\u001b[32mjava.util.ArrayList res1 = [Name: Dollar, Country: USA, Quantity: 100000, Storage: ATM, Name: Dollar, Country: USA, Quantity: 100000, Storage: ATM, Name: Dollar, Country: USA, Quantity: 100000, Storage: ATM, Name: Dollar, Country: USA, Quantity: 100000, Storage: ATM, Name: Dollar, Country: USA, Quantity: 100000, Storage: ATM]\u001b[0m\r\n",
      "\u001b[1m"
     ]
    }
   ],
   "source": [
    "((Bank) abank).simulateDayNoTerminal();"
   ]
  },
  {
   "cell_type": "code",
   "execution_count": 4,
   "metadata": {
    "collapsed": false
   },
   "outputs": [
    {
     "name": "stdout",
     "output_type": "stream",
     "text": [
      "\u001b[32mName: Dollar, Country: USA, Quantity: 100000, Storage: ATM\u001b[0m\r\n",
      "\u001b[32mName: Dollar, Country: USA, Quantity: 100000, Storage: ATM\u001b[0m\r\n",
      "\u001b[32mName: Dollar, Country: USA, Quantity: 100000, Storage: ATM\u001b[0m\r\n",
      "\u001b[32mName: Dollar, Country: USA, Quantity: 100000, Storage: ATM\u001b[0m\r\n",
      "\u001b[32mName: Dollar, Country: USA, Quantity: 100000, Storage: ATM\u001b[0m\r\n",
      "\u001b[32m\u001b[0m\r\n",
      "\u001b[1m"
     ]
    }
   ],
   "source": [
    "((Bank) abank).printHoldings();"
   ]
  },
  {
   "cell_type": "markdown",
   "metadata": {},
   "source": [
    "### Lambda Guidelines and Pitfalls<a id='Pitfalls'></a>\n",
    "\n",
    "#### 1. Debugging lambdas/streams/anonymous functions can be difficult\n",
    "Lambdas and anonymous functions may be injected (or created) at runtime, leading to issues with binding source to bytecode. If you have trouble getting breakpoints to stick, the best option is to put a breakpoint in one of the calling functions, and then to step into the method of interest. As for streams, sometimes `peek()` can be of use.\n",
    "##### 2. Lambdas encourage poor variable naming\n",
    "Because of the intentional lack of formalized type signatures in lambdas (e.g., n -> n+1), some developers will devolve the variable names into simple letters. To quote one of my collegues when asked if variable names matter, [Jason Wohlgemuth](https://github.com/jhwohlgemuth), \"Naming is one of the major things that developers do.\" I am of the mindset that naming variables sensibly is still imporantant, even in lambdas. There are exeptions to everything, but I think it's best to pretend when writing a lambda, that the naming practices from non-lambda coding should still apply.\n",
    "##### 3. Context/closure can do surprising things\n",
    "When a lambda takes a closure, and that closure is mutated, the lambda can be affected. So, be careful about how outside scoped variables are used and referenced within a lambda (see the simple string reference above).\n",
    "##### 4. Erasure can cause lots of issues\n",
    "Just look at the above examples. Erasure of variable types can require lots of casting. This can be prevented by construction and usage in the same scope (class or method), such that the compiler can figure out types easily. Otherwise, typing has to be used.\n",
    "##### 5. Lazy evaluation\n",
    "Understand that Streams are evaluated in a lazy manner. If there is no consumer, the code is effectively dead and should probably be removed."
   ]
  },
  {
   "cell_type": "markdown",
   "metadata": {},
   "source": [
    "## Resources other than this guide <a id='Resources_other_than_this_guide'></a>\n",
    " There are several official Oracle resources for the Java 8 update:\n",
    " - Make a bookmark to the [official Java 8 SE](https://docs.oracle.com/javase/8/docs/api/) language spec provided by Oracle's java-doc processing.\n",
    " - Go through one of the official online tutorials on Lambdas such as [Oracle's Lambda Quick Start](http://www.oracle.com/webfolder/technetwork/tutorials/obe/java/Lambda-QuickStart/index.html).\n",
    " - For the date api changes, there are other tutorials such as [Oracles's Java 8 Date and Time Offset](http://www.oracle.com/webfolder/technetwork/tutorials/obe/java/dateTimeAPI/DateTimeAPI.html)\n",
    "Note, the correct way to search and access Oracle tutorials is via their search engine [link](http://apex.oracle.com/pls/apex/f?p=44785:1).\n",
    "\n",
    "I spent alot of time searching for any books that I considered worthwhile. From the Java 8 developer release candidate (Sept 2014) to the official release (March 2015) to the current date of writing this (March 2017), there are loads of books. There are several early money-grab books that just document the code and API, things that you can and probably should reference from Oracle's website. In constrast, the latter books provide better guidance, with established usage patterns. Books that I own on the subject are below in recommended in order. The most cherished are the Horstmann series, which read like novels. As an aside, the first `Fundamentals` volume has, hands down, the best section I've ever read on annotations:\n",
    "\n",
    "-  [Core Java for the Impatient 1st Ed., Cay S. Horstmann, 2015](https://www.amazon.com/Core-Java-Impatient-Cay-Horstmann/dp/0321996321/) -- A great quick ~ 500 page overview of the language with the Java SE 8 update.\n",
    "-  [Core Java I Fundamentals, 10th Ed, Cay S. Horstman, 2016](https://www.amazon.com/Core-Java-I-Fundamentals-10th/dp/0134177304/) -- A good comprehensive (nigh monolithic) overview of Java SE up to and including SE 8. It has amazing tables that document the class changes per language version, such as the table on java.lang.String on page 72. These are invaluable if you want to pick up where you last left off. (To see an example, search the contents of his book on Amazon with the phrase \"We also list the version number in which a particular class was introduced\".) This contains the bulk of the writing on lambdas.\n",
    "-  [Core Java II Advanced Features, 10th Ed, Cay S. Horstman, 2017](https://www.amazon.com/Core-Java-II-Advanced-Features-10th/dp/0134177290/) -- As second comprehensive (also monolithic) book on Java up through SE 8. This has some useful and rarely documented information about things like user authentication and security, but also large sections that I find kind of irrelevant for what I work on (e.g., AWT, aka. Java's GUI language). \n",
    "\n",
    "-  [Java 8 in Action: Lambdas, Streams, and functional-style programming 1st, Urma, Fusco, Mycroft, 2014](https://www.amazon.com/Java-Action-Lambdas-functional-style-programming/dp/1617291994/) -- This book was the best I had found until I ran into the Horstman series. It is fairly standard and covers Lambdas in good depth. It would stand in easily for the content of Oracle SE 8 training on the subject. However, at times, it feels like it's just covering the same canned dialogue as every other book published in the JAVA SE 8 land-grab. To be fair, the lead author works for Oracle and it was written in August 2014 before the Developer Candidate release, so it is entirely possible every other book heavily borrowed content.\n",
    "\n",
    "-  [Java: The Complete Reference, Ninth Edition 9th Edition, Herbert Schildt, 2014](https://www.amazon.com/gp/product/0071808558/ref=oh_aui_search_detailpage?ie=UTF8&psc=1) -- This book is mostly a dead-tree reference collection of java-docs (which are free online). It is useful to me only when I cannot access the internet (or when I want to learn offline). For that, it's perfect. The rest of the time, it holds down my desk.\n"
   ]
  },
  {
   "cell_type": "markdown",
   "metadata": {
    "collapsed": true
   },
   "source": [
    "## Building a Java Jupyter Notebook<a id='Building_a_Java_Jupyter_Notebook'></a>\n",
    "Follow these steps:\n",
    "1. Fire up a Linux box. To date, this doesn't work on Windows (due to path issues python java8kernel)\n",
    "1. Get a recent copy of Jupyter from Anaconda python. I use the miniconda2 for space\n",
    "    1. `wget https://repo.continuum.io/miniconda/Miniconda2-latest-Linux-x86_64.sh`\n",
    "    2. `bash ./Miniconda2-latest-Linux-x86_64.sh` \n",
    "    3. `conda install jupyter'\n",
    "1. Get the REPL Jupyter notebook branch from github [ajlane/java8kernel] (https://github.com/ajlane/java8kernel)\n",
    "    1. clone the repo\n",
    "    1. read the install instructions to install the kernel\n",
    "    1. grab the compiled [javarepl.jar](http://albertlatacz.published.s3.amazonaws.com/javarepl/javarepl.jar) if you want to avoid compiling with gradel\n",
    "\n",
    "OR,\n",
    "1. Copy the cloud9 instance I used to make run and build this notebook, which is publicly available read-only via https://ide.c9.io/ashaver/java"
   ]
  }
 ],
 "metadata": {
  "kernelspec": {
   "display_name": "Java 8",
   "language": "java",
   "name": "javakernel"
  },
  "language_info": {
   "name": "Java"
  }
 },
 "nbformat": 4,
 "nbformat_minor": 2
}
